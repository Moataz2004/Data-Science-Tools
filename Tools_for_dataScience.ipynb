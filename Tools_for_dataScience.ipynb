{
 "cells": [
  {
   "cell_type": "markdown",
   "id": "ffb3e505-6a09-495e-bc52-35b47c308930",
   "metadata": {},
   "source": [
    "# Tools for DataScience"
   ]
  },
  {
   "cell_type": "markdown",
   "id": "5bcbceb5-b372-479f-b473-2edf01b78213",
   "metadata": {},
   "source": [
    "# Introduction\n",
    "We will talking about Data Science languages, libraries, Tools and Arithmetic Expression"
   ]
  },
  {
   "cell_type": "markdown",
   "id": "f6309f15-38ca-45fc-8df9-5fa015066dcd",
   "metadata": {},
   "source": [
    "# We have 8 languages for Data Science \n",
    "1. Python \n",
    "2. R\n",
    "3. SQL\n",
    "4. Java \n",
    "5. Scala \n",
    "6. C++ \n",
    "7. JavaScript \n",
    "8. Julia "
   ]
  },
  {
   "cell_type": "markdown",
   "id": "1afe373c-a4e5-4a16-a7f6-bfb25815271f",
   "metadata": {},
   "source": [
    "# We have libraries for Data Science in each language\n",
    "* in Python we have Seaborn and Matplotlib for Data Visualization\n",
    "* in R we have ggplot2 for Data Visualization\n",
    "* in Scala we have Vegas for Data Visualization"
   ]
  },
  {
   "cell_type": "markdown",
   "id": "f78851a9-8242-4557-a8ad-23122f6ee7a7",
   "metadata": {},
   "source": [
    "# Data Science Tools \n",
    "| Categorie | Tools |\n",
    "| ------ | ------ |\n",
    "| Data Management | MySQL - MongoDB - HadoopHDFS |\n",
    "| Data Integration and TRansformation | KubeFlow - Node_Red | \n",
    "|  Data Visualization | PixieDust - Kibana - Superset | \n",
    "| Model Deployment | Mleap - PredictionIO | \n",
    "| Model Monitoring and Asswssment | ModelDB - Prometheus | \n",
    "| Code Asset Management | Git - GitHub - GitLab |\n",
    "| Data Asset Management | Kylo - Egeria ApacheAtlas | "
   ]
  },
  {
   "cell_type": "markdown",
   "id": "715ef2c6-0ebe-4298-abd0-ef3bef35793b",
   "metadata": {},
   "source": [
    "# Arithmetic Expression\n",
    "An Arithmetic Expression is a set of terms combined using the operations +, –, x or / \n",
    "* 2 + 5 = 7\n",
    "* 10 - 8 = 2\n",
    "* 2 * 5 = 10\n",
    "* 9 / 3 = 3 "
   ]
  },
  {
   "cell_type": "code",
   "execution_count": 54,
   "id": "5ac2e4e1-55ab-451e-8377-eebe8c517c18",
   "metadata": {},
   "outputs": [
    {
     "data": {
      "text/plain": [
       "25"
      ]
     },
     "execution_count": 54,
     "metadata": {},
     "output_type": "execute_result"
    }
   ],
   "source": [
    "5 * 5"
   ]
  },
  {
   "cell_type": "code",
   "execution_count": 56,
   "id": "15517076-d0c9-4e71-b544-242a184432c4",
   "metadata": {},
   "outputs": [
    {
     "data": {
      "text/plain": [
       "10"
      ]
     },
     "execution_count": 56,
     "metadata": {},
     "output_type": "execute_result"
    }
   ],
   "source": [
    "2 + 8"
   ]
  },
  {
   "cell_type": "code",
   "execution_count": 64,
   "id": "4fb9ca46-4fa4-4fb5-9fec-99b75cbe176f",
   "metadata": {},
   "outputs": [
    {
     "name": "stdout",
     "output_type": "stream",
     "text": [
      "6.0\n"
     ]
    }
   ],
   "source": [
    "# to convert minutes to hours we divide by 60\n",
    "minutes = 360\n",
    "hours = minutes / 60 \n",
    "print(hours)"
   ]
  },
  {
   "cell_type": "markdown",
   "id": "efc0b868-ce7e-4343-8f29-adf500d8d93b",
   "metadata": {},
   "source": [
    "# Objectives\n",
    "* Know what are Data Science Tools and how to use them\n",
    "* Know what are Data Science languages and what they are use to\n",
    "* know what is Jupyter Notebook and Jupyter Lab\n",
    "* know what is Git and GitHub"
   ]
  },
  {
   "cell_type": "markdown",
   "id": "cdab3d87-512a-4fd3-be66-e23a45813f9f",
   "metadata": {},
   "source": [
    "#  Author\n",
    "Moataz Ahmed"
   ]
  },
  {
   "cell_type": "code",
   "execution_count": null,
   "id": "c7020475-9475-4bff-bc2e-a612f2d38373",
   "metadata": {},
   "outputs": [],
   "source": []
  }
 ],
 "metadata": {
  "kernelspec": {
   "display_name": "Python 3 (ipykernel)",
   "language": "python",
   "name": "python3"
  },
  "language_info": {
   "codemirror_mode": {
    "name": "ipython",
    "version": 3
   },
   "file_extension": ".py",
   "mimetype": "text/x-python",
   "name": "python",
   "nbconvert_exporter": "python",
   "pygments_lexer": "ipython3",
   "version": "3.12.4"
  }
 },
 "nbformat": 4,
 "nbformat_minor": 5
}
